{
  "cells": [
    {
      "cell_type": "markdown",
      "metadata": {
        "id": "view-in-github",
        "colab_type": "text"
      },
      "source": [
        "<a href=\"https://colab.research.google.com/github/varshateegala31/Disney-Movies-and-TV-Shows/blob/main/DISNEY_PLUS_TV_SHOWS_AND_MOVIES.ipynb\" target=\"_parent\"><img src=\"https://colab.research.google.com/assets/colab-badge.svg\" alt=\"Open In Colab\"/></a>"
      ]
    },
    {
      "cell_type": "markdown",
      "id": "4934c993",
      "metadata": {
        "id": "4934c993"
      },
      "source": [
        "# Disney+ Movies and TV Shows Case Study"
      ]
    },
    {
      "cell_type": "code",
      "source": [
        "from google.colab import drive\n",
        "drive.mount('/content/drive')"
      ],
      "metadata": {
        "colab": {
          "base_uri": "https://localhost:8080/"
        },
        "id": "X43N4lJRk1HI",
        "outputId": "f8b2d8be-1373-4275-e930-b698bc12bb09"
      },
      "id": "X43N4lJRk1HI",
      "execution_count": null,
      "outputs": [
        {
          "output_type": "stream",
          "name": "stdout",
          "text": [
            "Mounted at /content/drive\n"
          ]
        }
      ]
    },
    {
      "cell_type": "markdown",
      "id": "2589d23c",
      "metadata": {
        "id": "2589d23c"
      },
      "source": [
        "In this case study you’ll be learning Exploratory Data Analytics with the help of a case study on \"Disney+ Movies and TV Shows\". This will enable you to understand why EDA is a most important step in the process of Machine Learning."
      ]
    },
    {
      "cell_type": "markdown",
      "id": "e2a863b3",
      "metadata": {
        "id": "e2a863b3"
      },
      "source": [
        "## Problem Statement:\n"
      ]
    },
    {
      "cell_type": "code",
      "execution_count": null,
      "id": "59e42517",
      "metadata": {
        "id": "59e42517"
      },
      "outputs": [],
      "source": []
    },
    {
      "cell_type": "markdown",
      "id": "53441355",
      "metadata": {
        "id": "53441355"
      },
      "source": [
        "#### IMPORTING THE LIBRARIES"
      ]
    },
    {
      "cell_type": "code",
      "execution_count": null,
      "id": "31fbd75d",
      "metadata": {
        "id": "31fbd75d"
      },
      "outputs": [],
      "source": [
        "#import the warnings.\n",
        "import warnings\n",
        "warnings.filterwarnings(\"ignore\")"
      ]
    },
    {
      "cell_type": "code",
      "execution_count": null,
      "id": "381e3fb5",
      "metadata": {
        "id": "381e3fb5"
      },
      "outputs": [],
      "source": [
        "#import the useful libraries.\n",
        "import pandas as pd, numpy as np\n",
        "import matplotlib.pyplot as plt\n",
        "import seaborn as sns\n",
        "%matplotlib inline"
      ]
    },
    {
      "cell_type": "markdown",
      "id": "83a4a47f",
      "metadata": {
        "id": "83a4a47f"
      },
      "source": [
        "#### Read in the Data set."
      ]
    },
    {
      "cell_type": "code",
      "execution_count": null,
      "id": "2f2499ac",
      "metadata": {
        "id": "2f2499ac"
      },
      "outputs": [],
      "source": [
        "#read the data set of \"disney_plus_titles\" in inp0.\n",
        "disney_df = pd.read_csv(\"/content/drive/MyDrive/disney_plus_titles.csv\")"
      ]
    },
    {
      "cell_type": "code",
      "execution_count": null,
      "id": "ffc42498",
      "metadata": {
        "scrolled": true,
        "colab": {
          "base_uri": "https://localhost:8080/",
          "height": 565
        },
        "id": "ffc42498",
        "outputId": "51084498-676f-48d7-db66-a0b1246839d5"
      },
      "outputs": [
        {
          "output_type": "execute_result",
          "data": {
            "text/plain": [
              "  show_id     type                                             title  \\\n",
              "0      s1    Movie  Duck the Halls: A Mickey Mouse Christmas Special   \n",
              "1      s2    Movie                            Ernest Saves Christmas   \n",
              "2      s3    Movie                      Ice Age: A Mammoth Christmas   \n",
              "3      s4    Movie                        The Queen Family Singalong   \n",
              "4      s5  TV Show                             The Beatles: Get Back   \n",
              "\n",
              "                            director  \\\n",
              "0  Alonso Ramirez Ramos, Dave Wasson   \n",
              "1                        John Cherry   \n",
              "2                       Karen Disher   \n",
              "3                    Hamish Hamilton   \n",
              "4                                NaN   \n",
              "\n",
              "                                                cast        country  \\\n",
              "0  Chris Diamantopoulos, Tony Anselmo, Tress MacN...            NaN   \n",
              "1           Jim Varney, Noelle Parker, Douglas Seale            NaN   \n",
              "2  Raymond Albert Romano, John Leguizamo, Denis L...  United States   \n",
              "3  Darren Criss, Adam Lambert, Derek Hough, Alexa...            NaN   \n",
              "4  John Lennon, Paul McCartney, George Harrison, ...            NaN   \n",
              "\n",
              "          date_added  release_year rating  duration  \\\n",
              "0  November 26, 2021          2016   TV-G    23 min   \n",
              "1  November 26, 2021          1988     PG    91 min   \n",
              "2  November 26, 2021          2011   TV-G    23 min   \n",
              "3  November 26, 2021          2021  TV-PG    41 min   \n",
              "4  November 25, 2021          2021    NaN  1 Season   \n",
              "\n",
              "                       listed_in  \\\n",
              "0              Animation, Family   \n",
              "1                         Comedy   \n",
              "2      Animation, Comedy, Family   \n",
              "3                        Musical   \n",
              "4  Docuseries, Historical, Music   \n",
              "\n",
              "                                         description  \n",
              "0   Join Mickey and the gang as they duck the halls!  \n",
              "1  Santa Claus passes his magic bag to a new St. ...  \n",
              "2          Sid the Sloth is on Santa's naughty list.  \n",
              "3               This is real life, not just fantasy!  \n",
              "4  A three-part documentary from Peter Jackson ca...  "
            ],
            "text/html": [
              "\n",
              "  <div id=\"df-72cda45d-7597-4dcc-8d43-9815a6d3bee6\">\n",
              "    <div class=\"colab-df-container\">\n",
              "      <div>\n",
              "<style scoped>\n",
              "    .dataframe tbody tr th:only-of-type {\n",
              "        vertical-align: middle;\n",
              "    }\n",
              "\n",
              "    .dataframe tbody tr th {\n",
              "        vertical-align: top;\n",
              "    }\n",
              "\n",
              "    .dataframe thead th {\n",
              "        text-align: right;\n",
              "    }\n",
              "</style>\n",
              "<table border=\"1\" class=\"dataframe\">\n",
              "  <thead>\n",
              "    <tr style=\"text-align: right;\">\n",
              "      <th></th>\n",
              "      <th>show_id</th>\n",
              "      <th>type</th>\n",
              "      <th>title</th>\n",
              "      <th>director</th>\n",
              "      <th>cast</th>\n",
              "      <th>country</th>\n",
              "      <th>date_added</th>\n",
              "      <th>release_year</th>\n",
              "      <th>rating</th>\n",
              "      <th>duration</th>\n",
              "      <th>listed_in</th>\n",
              "      <th>description</th>\n",
              "    </tr>\n",
              "  </thead>\n",
              "  <tbody>\n",
              "    <tr>\n",
              "      <th>0</th>\n",
              "      <td>s1</td>\n",
              "      <td>Movie</td>\n",
              "      <td>Duck the Halls: A Mickey Mouse Christmas Special</td>\n",
              "      <td>Alonso Ramirez Ramos, Dave Wasson</td>\n",
              "      <td>Chris Diamantopoulos, Tony Anselmo, Tress MacN...</td>\n",
              "      <td>NaN</td>\n",
              "      <td>November 26, 2021</td>\n",
              "      <td>2016</td>\n",
              "      <td>TV-G</td>\n",
              "      <td>23 min</td>\n",
              "      <td>Animation, Family</td>\n",
              "      <td>Join Mickey and the gang as they duck the halls!</td>\n",
              "    </tr>\n",
              "    <tr>\n",
              "      <th>1</th>\n",
              "      <td>s2</td>\n",
              "      <td>Movie</td>\n",
              "      <td>Ernest Saves Christmas</td>\n",
              "      <td>John Cherry</td>\n",
              "      <td>Jim Varney, Noelle Parker, Douglas Seale</td>\n",
              "      <td>NaN</td>\n",
              "      <td>November 26, 2021</td>\n",
              "      <td>1988</td>\n",
              "      <td>PG</td>\n",
              "      <td>91 min</td>\n",
              "      <td>Comedy</td>\n",
              "      <td>Santa Claus passes his magic bag to a new St. ...</td>\n",
              "    </tr>\n",
              "    <tr>\n",
              "      <th>2</th>\n",
              "      <td>s3</td>\n",
              "      <td>Movie</td>\n",
              "      <td>Ice Age: A Mammoth Christmas</td>\n",
              "      <td>Karen Disher</td>\n",
              "      <td>Raymond Albert Romano, John Leguizamo, Denis L...</td>\n",
              "      <td>United States</td>\n",
              "      <td>November 26, 2021</td>\n",
              "      <td>2011</td>\n",
              "      <td>TV-G</td>\n",
              "      <td>23 min</td>\n",
              "      <td>Animation, Comedy, Family</td>\n",
              "      <td>Sid the Sloth is on Santa's naughty list.</td>\n",
              "    </tr>\n",
              "    <tr>\n",
              "      <th>3</th>\n",
              "      <td>s4</td>\n",
              "      <td>Movie</td>\n",
              "      <td>The Queen Family Singalong</td>\n",
              "      <td>Hamish Hamilton</td>\n",
              "      <td>Darren Criss, Adam Lambert, Derek Hough, Alexa...</td>\n",
              "      <td>NaN</td>\n",
              "      <td>November 26, 2021</td>\n",
              "      <td>2021</td>\n",
              "      <td>TV-PG</td>\n",
              "      <td>41 min</td>\n",
              "      <td>Musical</td>\n",
              "      <td>This is real life, not just fantasy!</td>\n",
              "    </tr>\n",
              "    <tr>\n",
              "      <th>4</th>\n",
              "      <td>s5</td>\n",
              "      <td>TV Show</td>\n",
              "      <td>The Beatles: Get Back</td>\n",
              "      <td>NaN</td>\n",
              "      <td>John Lennon, Paul McCartney, George Harrison, ...</td>\n",
              "      <td>NaN</td>\n",
              "      <td>November 25, 2021</td>\n",
              "      <td>2021</td>\n",
              "      <td>NaN</td>\n",
              "      <td>1 Season</td>\n",
              "      <td>Docuseries, Historical, Music</td>\n",
              "      <td>A three-part documentary from Peter Jackson ca...</td>\n",
              "    </tr>\n",
              "  </tbody>\n",
              "</table>\n",
              "</div>\n",
              "      <button class=\"colab-df-convert\" onclick=\"convertToInteractive('df-72cda45d-7597-4dcc-8d43-9815a6d3bee6')\"\n",
              "              title=\"Convert this dataframe to an interactive table.\"\n",
              "              style=\"display:none;\">\n",
              "        \n",
              "  <svg xmlns=\"http://www.w3.org/2000/svg\" height=\"24px\"viewBox=\"0 0 24 24\"\n",
              "       width=\"24px\">\n",
              "    <path d=\"M0 0h24v24H0V0z\" fill=\"none\"/>\n",
              "    <path d=\"M18.56 5.44l.94 2.06.94-2.06 2.06-.94-2.06-.94-.94-2.06-.94 2.06-2.06.94zm-11 1L8.5 8.5l.94-2.06 2.06-.94-2.06-.94L8.5 2.5l-.94 2.06-2.06.94zm10 10l.94 2.06.94-2.06 2.06-.94-2.06-.94-.94-2.06-.94 2.06-2.06.94z\"/><path d=\"M17.41 7.96l-1.37-1.37c-.4-.4-.92-.59-1.43-.59-.52 0-1.04.2-1.43.59L10.3 9.45l-7.72 7.72c-.78.78-.78 2.05 0 2.83L4 21.41c.39.39.9.59 1.41.59.51 0 1.02-.2 1.41-.59l7.78-7.78 2.81-2.81c.8-.78.8-2.07 0-2.86zM5.41 20L4 18.59l7.72-7.72 1.47 1.35L5.41 20z\"/>\n",
              "  </svg>\n",
              "      </button>\n",
              "      \n",
              "  <style>\n",
              "    .colab-df-container {\n",
              "      display:flex;\n",
              "      flex-wrap:wrap;\n",
              "      gap: 12px;\n",
              "    }\n",
              "\n",
              "    .colab-df-convert {\n",
              "      background-color: #E8F0FE;\n",
              "      border: none;\n",
              "      border-radius: 50%;\n",
              "      cursor: pointer;\n",
              "      display: none;\n",
              "      fill: #1967D2;\n",
              "      height: 32px;\n",
              "      padding: 0 0 0 0;\n",
              "      width: 32px;\n",
              "    }\n",
              "\n",
              "    .colab-df-convert:hover {\n",
              "      background-color: #E2EBFA;\n",
              "      box-shadow: 0px 1px 2px rgba(60, 64, 67, 0.3), 0px 1px 3px 1px rgba(60, 64, 67, 0.15);\n",
              "      fill: #174EA6;\n",
              "    }\n",
              "\n",
              "    [theme=dark] .colab-df-convert {\n",
              "      background-color: #3B4455;\n",
              "      fill: #D2E3FC;\n",
              "    }\n",
              "\n",
              "    [theme=dark] .colab-df-convert:hover {\n",
              "      background-color: #434B5C;\n",
              "      box-shadow: 0px 1px 3px 1px rgba(0, 0, 0, 0.15);\n",
              "      filter: drop-shadow(0px 1px 2px rgba(0, 0, 0, 0.3));\n",
              "      fill: #FFFFFF;\n",
              "    }\n",
              "  </style>\n",
              "\n",
              "      <script>\n",
              "        const buttonEl =\n",
              "          document.querySelector('#df-72cda45d-7597-4dcc-8d43-9815a6d3bee6 button.colab-df-convert');\n",
              "        buttonEl.style.display =\n",
              "          google.colab.kernel.accessAllowed ? 'block' : 'none';\n",
              "\n",
              "        async function convertToInteractive(key) {\n",
              "          const element = document.querySelector('#df-72cda45d-7597-4dcc-8d43-9815a6d3bee6');\n",
              "          const dataTable =\n",
              "            await google.colab.kernel.invokeFunction('convertToInteractive',\n",
              "                                                     [key], {});\n",
              "          if (!dataTable) return;\n",
              "\n",
              "          const docLinkHtml = 'Like what you see? Visit the ' +\n",
              "            '<a target=\"_blank\" href=https://colab.research.google.com/notebooks/data_table.ipynb>data table notebook</a>'\n",
              "            + ' to learn more about interactive tables.';\n",
              "          element.innerHTML = '';\n",
              "          dataTable['output_type'] = 'display_data';\n",
              "          await google.colab.output.renderOutput(dataTable, element);\n",
              "          const docLink = document.createElement('div');\n",
              "          docLink.innerHTML = docLinkHtml;\n",
              "          element.appendChild(docLink);\n",
              "        }\n",
              "      </script>\n",
              "    </div>\n",
              "  </div>\n",
              "  "
            ]
          },
          "metadata": {},
          "execution_count": 5
        }
      ],
      "source": [
        "#Print the head of the data frame.\n",
        "disney_df.head()"
      ]
    },
    {
      "cell_type": "code",
      "execution_count": null,
      "id": "ced32d88",
      "metadata": {
        "id": "ced32d88",
        "outputId": "dba95793-ed74-42f7-cafc-1caa1ea5058c"
      },
      "outputs": [
        {
          "data": {
            "text/html": [
              "<div>\n",
              "<style scoped>\n",
              "    .dataframe tbody tr th:only-of-type {\n",
              "        vertical-align: middle;\n",
              "    }\n",
              "\n",
              "    .dataframe tbody tr th {\n",
              "        vertical-align: top;\n",
              "    }\n",
              "\n",
              "    .dataframe thead th {\n",
              "        text-align: right;\n",
              "    }\n",
              "</style>\n",
              "<table border=\"1\" class=\"dataframe\">\n",
              "  <thead>\n",
              "    <tr style=\"text-align: right;\">\n",
              "      <th></th>\n",
              "      <th>show_id</th>\n",
              "      <th>type</th>\n",
              "      <th>title</th>\n",
              "      <th>director</th>\n",
              "      <th>cast</th>\n",
              "      <th>country</th>\n",
              "      <th>date_added</th>\n",
              "      <th>release_year</th>\n",
              "      <th>rating</th>\n",
              "      <th>duration</th>\n",
              "      <th>listed_in</th>\n",
              "      <th>description</th>\n",
              "      <th>added_year</th>\n",
              "    </tr>\n",
              "  </thead>\n",
              "  <tbody>\n",
              "    <tr>\n",
              "      <th>1445</th>\n",
              "      <td>s1446</td>\n",
              "      <td>Movie</td>\n",
              "      <td>X-Men Origins: Wolverine</td>\n",
              "      <td>Gavin Hood</td>\n",
              "      <td>Hugh Jackman, Liev Schreiber, Danny Huston, wi...</td>\n",
              "      <td>United States, United Kingdom</td>\n",
              "      <td>June 4, 2021</td>\n",
              "      <td>2009</td>\n",
              "      <td>PG-13</td>\n",
              "      <td>108 min</td>\n",
              "      <td>Action-Adventure, Family, Science Fiction</td>\n",
              "      <td>Wolverine unites with legendary X-Men to fight...</td>\n",
              "      <td>2021</td>\n",
              "    </tr>\n",
              "    <tr>\n",
              "      <th>1446</th>\n",
              "      <td>s1447</td>\n",
              "      <td>Movie</td>\n",
              "      <td>Night at the Museum: Battle of the Smithsonian</td>\n",
              "      <td>Shawn Levy</td>\n",
              "      <td>Ben Stiller, Amy Adams, Owen Wilson, Hank Azar...</td>\n",
              "      <td>United States, Canada</td>\n",
              "      <td>April 2, 2021</td>\n",
              "      <td>2009</td>\n",
              "      <td>PG</td>\n",
              "      <td>106 min</td>\n",
              "      <td>Action-Adventure, Comedy, Family</td>\n",
              "      <td>Larry Daley returns to rescue some old friends...</td>\n",
              "      <td>2021</td>\n",
              "    </tr>\n",
              "    <tr>\n",
              "      <th>1447</th>\n",
              "      <td>s1448</td>\n",
              "      <td>Movie</td>\n",
              "      <td>Eddie the Eagle</td>\n",
              "      <td>Dexter Fletcher</td>\n",
              "      <td>Tom Costello, Jo Hartley, Keith Allen, Dickon ...</td>\n",
              "      <td>United Kingdom, Germany, United States</td>\n",
              "      <td>December 18, 2020</td>\n",
              "      <td>2016</td>\n",
              "      <td>PG-13</td>\n",
              "      <td>107 min</td>\n",
              "      <td>Biographical, Comedy, Drama</td>\n",
              "      <td>True story of Eddie Edwards, a British ski-jum...</td>\n",
              "      <td>2020</td>\n",
              "    </tr>\n",
              "    <tr>\n",
              "      <th>1448</th>\n",
              "      <td>s1449</td>\n",
              "      <td>Movie</td>\n",
              "      <td>Bend It Like Beckham</td>\n",
              "      <td>Gurinder Chadha</td>\n",
              "      <td>Parminder Nagra, Keira Knightley, Jonathan Rhy...</td>\n",
              "      <td>United Kingdom, Germany, United States</td>\n",
              "      <td>September 18, 2020</td>\n",
              "      <td>2003</td>\n",
              "      <td>PG-13</td>\n",
              "      <td>112 min</td>\n",
              "      <td>Buddy, Comedy, Coming of Age</td>\n",
              "      <td>Despite the wishes of their traditional famili...</td>\n",
              "      <td>2020</td>\n",
              "    </tr>\n",
              "    <tr>\n",
              "      <th>1449</th>\n",
              "      <td>s1450</td>\n",
              "      <td>Movie</td>\n",
              "      <td>Captain Sparky vs. The Flying Saucers</td>\n",
              "      <td>Mark Waring</td>\n",
              "      <td>Charlie Tahan</td>\n",
              "      <td>United States</td>\n",
              "      <td>April 1, 2020</td>\n",
              "      <td>2012</td>\n",
              "      <td>TV-G</td>\n",
              "      <td>2 min</td>\n",
              "      <td>Action-Adventure, Animals &amp; Nature, Animation</td>\n",
              "      <td>View one of Sparky's favorite home movies.</td>\n",
              "      <td>2020</td>\n",
              "    </tr>\n",
              "  </tbody>\n",
              "</table>\n",
              "</div>"
            ],
            "text/plain": [
              "     show_id   type                                           title  \\\n",
              "1445   s1446  Movie                        X-Men Origins: Wolverine   \n",
              "1446   s1447  Movie  Night at the Museum: Battle of the Smithsonian   \n",
              "1447   s1448  Movie                                 Eddie the Eagle   \n",
              "1448   s1449  Movie                            Bend It Like Beckham   \n",
              "1449   s1450  Movie           Captain Sparky vs. The Flying Saucers   \n",
              "\n",
              "             director                                               cast  \\\n",
              "1445       Gavin Hood  Hugh Jackman, Liev Schreiber, Danny Huston, wi...   \n",
              "1446       Shawn Levy  Ben Stiller, Amy Adams, Owen Wilson, Hank Azar...   \n",
              "1447  Dexter Fletcher  Tom Costello, Jo Hartley, Keith Allen, Dickon ...   \n",
              "1448  Gurinder Chadha  Parminder Nagra, Keira Knightley, Jonathan Rhy...   \n",
              "1449      Mark Waring                                      Charlie Tahan   \n",
              "\n",
              "                                     country          date_added  \\\n",
              "1445           United States, United Kingdom        June 4, 2021   \n",
              "1446                   United States, Canada       April 2, 2021   \n",
              "1447  United Kingdom, Germany, United States   December 18, 2020   \n",
              "1448  United Kingdom, Germany, United States  September 18, 2020   \n",
              "1449                           United States       April 1, 2020   \n",
              "\n",
              "      release_year rating duration  \\\n",
              "1445          2009  PG-13  108 min   \n",
              "1446          2009     PG  106 min   \n",
              "1447          2016  PG-13  107 min   \n",
              "1448          2003  PG-13  112 min   \n",
              "1449          2012   TV-G    2 min   \n",
              "\n",
              "                                          listed_in  \\\n",
              "1445      Action-Adventure, Family, Science Fiction   \n",
              "1446               Action-Adventure, Comedy, Family   \n",
              "1447                    Biographical, Comedy, Drama   \n",
              "1448                   Buddy, Comedy, Coming of Age   \n",
              "1449  Action-Adventure, Animals & Nature, Animation   \n",
              "\n",
              "                                            description  added_year  \n",
              "1445  Wolverine unites with legendary X-Men to fight...        2021  \n",
              "1446  Larry Daley returns to rescue some old friends...        2021  \n",
              "1447  True story of Eddie Edwards, a British ski-jum...        2020  \n",
              "1448  Despite the wishes of their traditional famili...        2020  \n",
              "1449         View one of Sparky's favorite home movies.        2020  "
            ]
          },
          "execution_count": 5,
          "metadata": {},
          "output_type": "execute_result"
        }
      ],
      "source": [
        "disney_df.tail()"
      ]
    },
    {
      "cell_type": "markdown",
      "id": "ab7d37a6",
      "metadata": {
        "id": "ab7d37a6"
      },
      "source": [
        "## Data cleaning"
      ]
    },
    {
      "cell_type": "code",
      "execution_count": null,
      "id": "eb35f820",
      "metadata": {
        "id": "eb35f820",
        "outputId": "9df07d3c-eaab-440f-cfcd-70a422ae3f3f"
      },
      "outputs": [
        {
          "data": {
            "text/html": [
              "<div>\n",
              "<style scoped>\n",
              "    .dataframe tbody tr th:only-of-type {\n",
              "        vertical-align: middle;\n",
              "    }\n",
              "\n",
              "    .dataframe tbody tr th {\n",
              "        vertical-align: top;\n",
              "    }\n",
              "\n",
              "    .dataframe thead th {\n",
              "        text-align: right;\n",
              "    }\n",
              "</style>\n",
              "<table border=\"1\" class=\"dataframe\">\n",
              "  <thead>\n",
              "    <tr style=\"text-align: right;\">\n",
              "      <th></th>\n",
              "      <th>show_id</th>\n",
              "      <th>type</th>\n",
              "      <th>title</th>\n",
              "      <th>director</th>\n",
              "      <th>cast</th>\n",
              "      <th>country</th>\n",
              "      <th>date_added</th>\n",
              "      <th>release_year</th>\n",
              "      <th>rating</th>\n",
              "      <th>duration</th>\n",
              "      <th>listed_in</th>\n",
              "      <th>description</th>\n",
              "      <th>added_year</th>\n",
              "    </tr>\n",
              "  </thead>\n",
              "  <tbody>\n",
              "    <tr>\n",
              "      <th>0</th>\n",
              "      <td>s1</td>\n",
              "      <td>Movie</td>\n",
              "      <td>Duck the Halls: A Mickey Mouse Christmas Special</td>\n",
              "      <td>Alonso Ramirez Ramos, Dave Wasson</td>\n",
              "      <td>Chris Diamantopoulos, Tony Anselmo, Tress MacN...</td>\n",
              "      <td>NaN</td>\n",
              "      <td>November 26, 2021</td>\n",
              "      <td>2016</td>\n",
              "      <td>TV-G</td>\n",
              "      <td>23 min</td>\n",
              "      <td>Animation, Family</td>\n",
              "      <td>Join Mickey and the gang as they duck the halls!</td>\n",
              "      <td>2021</td>\n",
              "    </tr>\n",
              "    <tr>\n",
              "      <th>1</th>\n",
              "      <td>s2</td>\n",
              "      <td>Movie</td>\n",
              "      <td>Ernest Saves Christmas</td>\n",
              "      <td>John Cherry</td>\n",
              "      <td>Jim Varney, Noelle Parker, Douglas Seale</td>\n",
              "      <td>NaN</td>\n",
              "      <td>November 26, 2021</td>\n",
              "      <td>1988</td>\n",
              "      <td>PG</td>\n",
              "      <td>91 min</td>\n",
              "      <td>Comedy</td>\n",
              "      <td>Santa Claus passes his magic bag to a new St. ...</td>\n",
              "      <td>2021</td>\n",
              "    </tr>\n",
              "    <tr>\n",
              "      <th>2</th>\n",
              "      <td>s3</td>\n",
              "      <td>Movie</td>\n",
              "      <td>Ice Age: A Mammoth Christmas</td>\n",
              "      <td>Karen Disher</td>\n",
              "      <td>Raymond Albert Romano, John Leguizamo, Denis L...</td>\n",
              "      <td>United States</td>\n",
              "      <td>November 26, 2021</td>\n",
              "      <td>2011</td>\n",
              "      <td>TV-G</td>\n",
              "      <td>23 min</td>\n",
              "      <td>Animation, Comedy, Family</td>\n",
              "      <td>Sid the Sloth is on Santa's naughty list.</td>\n",
              "      <td>2021</td>\n",
              "    </tr>\n",
              "    <tr>\n",
              "      <th>3</th>\n",
              "      <td>s4</td>\n",
              "      <td>Movie</td>\n",
              "      <td>The Queen Family Singalong</td>\n",
              "      <td>Hamish Hamilton</td>\n",
              "      <td>Darren Criss, Adam Lambert, Derek Hough, Alexa...</td>\n",
              "      <td>NaN</td>\n",
              "      <td>November 26, 2021</td>\n",
              "      <td>2021</td>\n",
              "      <td>TV-PG</td>\n",
              "      <td>41 min</td>\n",
              "      <td>Musical</td>\n",
              "      <td>This is real life, not just fantasy!</td>\n",
              "      <td>2021</td>\n",
              "    </tr>\n",
              "    <tr>\n",
              "      <th>4</th>\n",
              "      <td>s5</td>\n",
              "      <td>TV Show</td>\n",
              "      <td>The Beatles: Get Back</td>\n",
              "      <td>NaN</td>\n",
              "      <td>John Lennon, Paul McCartney, George Harrison, ...</td>\n",
              "      <td>NaN</td>\n",
              "      <td>November 25, 2021</td>\n",
              "      <td>2021</td>\n",
              "      <td>NaN</td>\n",
              "      <td>1 Season</td>\n",
              "      <td>Docuseries, Historical, Music</td>\n",
              "      <td>A three-part documentary from Peter Jackson ca...</td>\n",
              "      <td>2021</td>\n",
              "    </tr>\n",
              "  </tbody>\n",
              "</table>\n",
              "</div>"
            ],
            "text/plain": [
              "  show_id     type                                             title  \\\n",
              "0      s1    Movie  Duck the Halls: A Mickey Mouse Christmas Special   \n",
              "1      s2    Movie                            Ernest Saves Christmas   \n",
              "2      s3    Movie                      Ice Age: A Mammoth Christmas   \n",
              "3      s4    Movie                        The Queen Family Singalong   \n",
              "4      s5  TV Show                             The Beatles: Get Back   \n",
              "\n",
              "                            director  \\\n",
              "0  Alonso Ramirez Ramos, Dave Wasson   \n",
              "1                        John Cherry   \n",
              "2                       Karen Disher   \n",
              "3                    Hamish Hamilton   \n",
              "4                                NaN   \n",
              "\n",
              "                                                cast        country  \\\n",
              "0  Chris Diamantopoulos, Tony Anselmo, Tress MacN...            NaN   \n",
              "1           Jim Varney, Noelle Parker, Douglas Seale            NaN   \n",
              "2  Raymond Albert Romano, John Leguizamo, Denis L...  United States   \n",
              "3  Darren Criss, Adam Lambert, Derek Hough, Alexa...            NaN   \n",
              "4  John Lennon, Paul McCartney, George Harrison, ...            NaN   \n",
              "\n",
              "          date_added  release_year rating  duration  \\\n",
              "0  November 26, 2021          2016   TV-G    23 min   \n",
              "1  November 26, 2021          1988     PG    91 min   \n",
              "2  November 26, 2021          2011   TV-G    23 min   \n",
              "3  November 26, 2021          2021  TV-PG    41 min   \n",
              "4  November 25, 2021          2021    NaN  1 Season   \n",
              "\n",
              "                       listed_in  \\\n",
              "0              Animation, Family   \n",
              "1                         Comedy   \n",
              "2      Animation, Comedy, Family   \n",
              "3                        Musical   \n",
              "4  Docuseries, Historical, Music   \n",
              "\n",
              "                                         description  added_year  \n",
              "0   Join Mickey and the gang as they duck the halls!        2021  \n",
              "1  Santa Claus passes his magic bag to a new St. ...        2021  \n",
              "2          Sid the Sloth is on Santa's naughty list.        2021  \n",
              "3               This is real life, not just fantasy!        2021  \n",
              "4  A three-part documentary from Peter Jackson ca...        2021  "
            ]
          },
          "execution_count": 6,
          "metadata": {},
          "output_type": "execute_result"
        }
      ],
      "source": [
        "#print the head of the data frame.\n",
        "disney_df.head()"
      ]
    },
    {
      "cell_type": "markdown",
      "id": "371d6d0e",
      "metadata": {
        "id": "371d6d0e"
      },
      "source": [
        "### Checking if the data has null values or not. "
      ]
    },
    {
      "cell_type": "code",
      "execution_count": null,
      "id": "e9112ddc",
      "metadata": {
        "scrolled": true,
        "id": "e9112ddc",
        "outputId": "abedc662-632a-4dcf-cf32-d8a5badbfc1c"
      },
      "outputs": [
        {
          "data": {
            "text/plain": [
              "show_id           0\n",
              "type              0\n",
              "title             0\n",
              "director        473\n",
              "cast            190\n",
              "country         219\n",
              "date_added        3\n",
              "release_year      0\n",
              "rating            3\n",
              "duration          0\n",
              "listed_in         0\n",
              "description       0\n",
              "added_year        0\n",
              "dtype: int64"
            ]
          },
          "execution_count": 8,
          "metadata": {},
          "output_type": "execute_result"
        }
      ],
      "source": [
        "# To check null values\n",
        "disney_df.isnull().sum()"
      ]
    },
    {
      "cell_type": "markdown",
      "id": "d3dffe88",
      "metadata": {
        "id": "d3dffe88"
      },
      "source": [
        "### Checking the percentage of missing values in each column."
      ]
    },
    {
      "cell_type": "code",
      "execution_count": null,
      "id": "59e6d64a",
      "metadata": {
        "scrolled": true,
        "id": "59e6d64a",
        "outputId": "a8e8d68e-44d8-4f61-edf3-fb13cff733b5"
      },
      "outputs": [
        {
          "data": {
            "text/plain": [
              "show_id          0.000000\n",
              "type             0.000000\n",
              "title            0.000000\n",
              "director        32.620690\n",
              "cast            13.103448\n",
              "country         15.103448\n",
              "date_added       0.206897\n",
              "release_year     0.000000\n",
              "rating           0.206897\n",
              "duration         0.000000\n",
              "listed_in        0.000000\n",
              "description      0.000000\n",
              "added_year       0.000000\n",
              "dtype: float64"
            ]
          },
          "execution_count": 9,
          "metadata": {},
          "output_type": "execute_result"
        }
      ],
      "source": [
        "disney_df.isnull().sum()/disney_df.shape[0]*100"
      ]
    },
    {
      "cell_type": "markdown",
      "id": "7382cd92",
      "metadata": {
        "id": "7382cd92"
      },
      "source": [
        "Dropping the null values will not show effect on the data."
      ]
    },
    {
      "cell_type": "code",
      "execution_count": null,
      "id": "2c70be8b",
      "metadata": {
        "id": "2c70be8b",
        "outputId": "acccd4fb-aab3-4750-98b8-70c6ee68ed90"
      },
      "outputs": [
        {
          "name": "stdout",
          "output_type": "stream",
          "text": [
            "There are 1450 rows and 13 columns in our Disney Dataset.\n"
          ]
        }
      ],
      "source": [
        "# Shape of the dataset\n",
        "\n",
        "numberofrows_1, numberofcolumns_1 = disney_df.shape\n",
        "print('There are {} rows and {} columns'.format(numberofrows_1, numberofcolumns_1)+' in our Disney Dataset.')"
      ]
    },
    {
      "cell_type": "markdown",
      "id": "2f923852",
      "metadata": {
        "id": "2f923852"
      },
      "source": [
        "### Missing Value Inspection "
      ]
    },
    {
      "cell_type": "code",
      "execution_count": null,
      "id": "9cbbae37",
      "metadata": {
        "id": "9cbbae37",
        "outputId": "85a057fb-242d-4e41-b47d-f490d7df0ae5"
      },
      "outputs": [
        {
          "data": {
            "image/png": "[encoded data removed]",
            "text/plain": [
              "<Figure size 720x360 with 1 Axes>"
            ]
          },
          "metadata": {
            "needs_background": "light"
          },
          "output_type": "display_data"
        }
      ],
      "source": [
        "# Missing value Inspection\n",
        "\n",
        "Value_Missing = disney_df.isnull().sum().sort_values(ascending = False)\n",
        "percent_missing = (disney_df.isnull().sum() * 100 / len(disney_df)).round(2).sort_values(ascending = False)\n",
        "missing_data = pd.concat([Value_Missing, percent_missing], axis = 1, keys = ['Total', 'Percent'])\n",
        "f, ax = plt.subplots(figsize = (10, 5))\n",
        "plt.xticks(rotation = '90')\n",
        "cplot = sns.barplot(x = missing_data.index, y = missing_data['Percent'], palette = 'bone_r', lw = 2, ec = 'black')\n",
        "for count in cplot.patches:\n",
        "    height = count.get_height()\n",
        "    ax.annotate('{}'.format(height),xy = (count.get_x() + count.get_width()/2, height),\n",
        "                    ha = 'center', va = 'bottom', size = 11, xytext = (0, 3), textcoords = 'offset points')\n",
        "cplot.set_title('Missing Value Inspection', fontsize = 20, weight = 'bold')\n",
        "cplot.set_ylabel('Count', fontsize = 15)\n",
        "cplot.set_xlabel('Features', fontsize = 15);"
      ]
    },
    {
      "cell_type": "markdown",
      "id": "0ef7f13e",
      "metadata": {
        "id": "0ef7f13e"
      },
      "source": [
        "### Hence the null values are more in director,country,cast columns we are replacing the null values with NaN "
      ]
    },
    {
      "cell_type": "code",
      "execution_count": null,
      "id": "2b9f9b83",
      "metadata": {
        "id": "2b9f9b83"
      },
      "outputs": [],
      "source": [
        "disney_df.director.fillna(\"NaN\", inplace=True)"
      ]
    },
    {
      "cell_type": "code",
      "execution_count": null,
      "id": "8febf3e7",
      "metadata": {
        "id": "8febf3e7"
      },
      "outputs": [],
      "source": [
        "disney_df.cast.fillna(\"NaN\", inplace=True)"
      ]
    },
    {
      "cell_type": "code",
      "execution_count": null,
      "id": "d89c63b0",
      "metadata": {
        "id": "d89c63b0"
      },
      "outputs": [],
      "source": [
        "disney_df.country.fillna(\"NaN\",inplace=True)"
      ]
    },
    {
      "cell_type": "code",
      "execution_count": null,
      "id": "2944e008",
      "metadata": {
        "id": "2944e008",
        "outputId": "ef3fcce4-bd1d-49b2-8cde-27492865f2cf"
      },
      "outputs": [
        {
          "data": {
            "text/plain": [
              "show_id         0\n",
              "type            0\n",
              "title           0\n",
              "director        0\n",
              "cast            0\n",
              "country         0\n",
              "date_added      3\n",
              "release_year    0\n",
              "rating          3\n",
              "duration        0\n",
              "listed_in       0\n",
              "description     0\n",
              "added_year      0\n",
              "dtype: int64"
            ]
          },
          "execution_count": 45,
          "metadata": {},
          "output_type": "execute_result"
        }
      ],
      "source": [
        "disney_df.isnull().sum()"
      ]
    },
    {
      "cell_type": "markdown",
      "id": "bc4a9ce1",
      "metadata": {
        "id": "bc4a9ce1"
      },
      "source": [
        "### The null values in the columns date_added and rating are less in number so we can drop them "
      ]
    },
    {
      "cell_type": "code",
      "execution_count": null,
      "id": "0d7054c3",
      "metadata": {
        "id": "0d7054c3"
      },
      "outputs": [],
      "source": [
        "df1=disney_df.dropna()"
      ]
    },
    {
      "cell_type": "code",
      "execution_count": null,
      "id": "f5a04dff",
      "metadata": {
        "id": "f5a04dff",
        "outputId": "7e16cf9f-a258-4cc2-97f5-568c02e61182"
      },
      "outputs": [
        {
          "data": {
            "text/plain": [
              "show_id         0\n",
              "type            0\n",
              "title           0\n",
              "director        0\n",
              "cast            0\n",
              "country         0\n",
              "date_added      0\n",
              "release_year    0\n",
              "rating          0\n",
              "duration        0\n",
              "listed_in       0\n",
              "description     0\n",
              "added_year      0\n",
              "dtype: int64"
            ]
          },
          "execution_count": 17,
          "metadata": {},
          "output_type": "execute_result"
        }
      ],
      "source": [
        "df1.isnull().sum()"
      ]
    },
    {
      "cell_type": "markdown",
      "id": "1af2bd02",
      "metadata": {
        "id": "1af2bd02"
      },
      "source": [
        "#### The null values have been removed. "
      ]
    },
    {
      "cell_type": "markdown",
      "id": "0213b6c7",
      "metadata": {
        "id": "0213b6c7"
      },
      "source": [
        "### Missing value inspection after removing the null values "
      ]
    },
    {
      "cell_type": "code",
      "execution_count": null,
      "id": "8984a805",
      "metadata": {
        "id": "8984a805",
        "outputId": "ea6f1bf8-b60c-4d9d-b66c-1ac972cac8a7"
      },
      "outputs": [
        {
          "data": {
            "image/png": "[encoded data removed]",
            "text/plain": [
              "<Figure size 720x360 with 1 Axes>"
            ]
          },
          "metadata": {
            "needs_background": "light"
          },
          "output_type": "display_data"
        }
      ],
      "source": [
        "# Missing value Inspection\n",
        "\n",
        "Value_Missing = df1.isnull().sum().sort_values(ascending = False)\n",
        "percent_missing = (df1.isnull().sum() * 100 / len(df1)).round(2).sort_values(ascending = False)\n",
        "missing_data = pd.concat([Value_Missing, percent_missing], axis = 1, keys = ['Total', 'Percent'])\n",
        "f, ax = plt.subplots(figsize = (10, 5))\n",
        "plt.xticks(rotation = '90')\n",
        "cplot = sns.barplot(x = missing_data.index, y = missing_data['Percent'], palette = 'bone_r', lw = 2, ec = 'black')\n",
        "for count in cplot.patches:\n",
        "    height = count.get_height()\n",
        "    ax.annotate('{}'.format(height),xy = (count.get_x() + count.get_width()/2, height),\n",
        "                    ha = 'center', va = 'bottom', size = 11, xytext = (0, 3), textcoords = 'offset points')\n",
        "cplot.set_title('Missing Value Inspection', fontsize = 20, weight = 'bold')\n",
        "cplot.set_ylabel('Count', fontsize = 15)\n",
        "cplot.set_xlabel('Features', fontsize = 15);"
      ]
    },
    {
      "cell_type": "markdown",
      "id": "f8a181f8",
      "metadata": {
        "id": "f8a181f8"
      },
      "source": [
        "#### Hence,there are no null values,so we can proceed."
      ]
    },
    {
      "cell_type": "code",
      "execution_count": null,
      "id": "dda47d7f",
      "metadata": {
        "id": "dda47d7f",
        "outputId": "fcc7f697-6e81-4361-e96c-d44ffdb9d227"
      },
      "outputs": [
        {
          "name": "stdout",
          "output_type": "stream",
          "text": [
            "<class 'pandas.core.frame.DataFrame'>\n",
            "Int64Index: 1444 entries, 0 to 1449\n",
            "Data columns (total 13 columns):\n",
            " #   Column        Non-Null Count  Dtype \n",
            "---  ------        --------------  ----- \n",
            " 0   show_id       1444 non-null   object\n",
            " 1   type          1444 non-null   object\n",
            " 2   title         1444 non-null   object\n",
            " 3   director      1444 non-null   object\n",
            " 4   cast          1444 non-null   object\n",
            " 5   country       1444 non-null   object\n",
            " 6   date_added    1444 non-null   object\n",
            " 7   release_year  1444 non-null   int64 \n",
            " 8   rating        1444 non-null   object\n",
            " 9   duration      1444 non-null   object\n",
            " 10  listed_in     1444 non-null   object\n",
            " 11  description   1444 non-null   object\n",
            " 12  added_year    1444 non-null   int64 \n",
            "dtypes: int64(2), object(11)\n",
            "memory usage: 190.2+ KB\n"
          ]
        }
      ],
      "source": [
        "df1.info()"
      ]
    },
    {
      "cell_type": "code",
      "execution_count": null,
      "id": "eeb5a35e",
      "metadata": {
        "id": "eeb5a35e",
        "outputId": "687efd09-19ee-4b58-de41-eb550a6ce6f5"
      },
      "outputs": [
        {
          "data": {
            "text/html": [
              "<div>\n",
              "<style scoped>\n",
              "    .dataframe tbody tr th:only-of-type {\n",
              "        vertical-align: middle;\n",
              "    }\n",
              "\n",
              "    .dataframe tbody tr th {\n",
              "        vertical-align: top;\n",
              "    }\n",
              "\n",
              "    .dataframe thead th {\n",
              "        text-align: right;\n",
              "    }\n",
              "</style>\n",
              "<table border=\"1\" class=\"dataframe\">\n",
              "  <thead>\n",
              "    <tr style=\"text-align: right;\">\n",
              "      <th></th>\n",
              "      <th>release_year</th>\n",
              "      <th>added_year</th>\n",
              "    </tr>\n",
              "  </thead>\n",
              "  <tbody>\n",
              "    <tr>\n",
              "      <th>count</th>\n",
              "      <td>1444.000000</td>\n",
              "      <td>1444.000000</td>\n",
              "    </tr>\n",
              "    <tr>\n",
              "      <th>mean</th>\n",
              "      <td>2003.036011</td>\n",
              "      <td>2019.696676</td>\n",
              "    </tr>\n",
              "    <tr>\n",
              "      <th>std</th>\n",
              "      <td>21.886435</td>\n",
              "      <td>0.815284</td>\n",
              "    </tr>\n",
              "    <tr>\n",
              "      <th>min</th>\n",
              "      <td>1928.000000</td>\n",
              "      <td>2019.000000</td>\n",
              "    </tr>\n",
              "    <tr>\n",
              "      <th>25%</th>\n",
              "      <td>1999.000000</td>\n",
              "      <td>2019.000000</td>\n",
              "    </tr>\n",
              "    <tr>\n",
              "      <th>50%</th>\n",
              "      <td>2011.000000</td>\n",
              "      <td>2019.000000</td>\n",
              "    </tr>\n",
              "    <tr>\n",
              "      <th>75%</th>\n",
              "      <td>2018.000000</td>\n",
              "      <td>2020.000000</td>\n",
              "    </tr>\n",
              "    <tr>\n",
              "      <th>max</th>\n",
              "      <td>2021.000000</td>\n",
              "      <td>2021.000000</td>\n",
              "    </tr>\n",
              "  </tbody>\n",
              "</table>\n",
              "</div>"
            ],
            "text/plain": [
              "       release_year   added_year\n",
              "count   1444.000000  1444.000000\n",
              "mean    2003.036011  2019.696676\n",
              "std       21.886435     0.815284\n",
              "min     1928.000000  2019.000000\n",
              "25%     1999.000000  2019.000000\n",
              "50%     2011.000000  2019.000000\n",
              "75%     2018.000000  2020.000000\n",
              "max     2021.000000  2021.000000"
            ]
          },
          "execution_count": 47,
          "metadata": {},
          "output_type": "execute_result"
        }
      ],
      "source": [
        "df1.describe()"
      ]
    },
    {
      "cell_type": "markdown",
      "id": "79da04f9",
      "metadata": {
        "id": "79da04f9"
      },
      "source": [
        "### Mean value of the dataset"
      ]
    },
    {
      "cell_type": "code",
      "execution_count": null,
      "id": "f8427cab",
      "metadata": {
        "id": "f8427cab",
        "outputId": "9a56d82b-bc17-44de-a07f-45ccf348c222"
      },
      "outputs": [
        {
          "data": {
            "text/plain": [
              "release_year    2003.036011\n",
              "added_year      2019.696676\n",
              "dtype: float64"
            ]
          },
          "execution_count": 39,
          "metadata": {},
          "output_type": "execute_result"
        }
      ],
      "source": [
        "df1.mean()"
      ]
    },
    {
      "cell_type": "markdown",
      "id": "bc29a91e",
      "metadata": {
        "id": "bc29a91e"
      },
      "source": [
        "### Median value of the dataset"
      ]
    },
    {
      "cell_type": "code",
      "execution_count": null,
      "id": "83880f4c",
      "metadata": {
        "id": "83880f4c",
        "outputId": "8eec9090-d210-4885-a0c6-5e6785630ebe"
      },
      "outputs": [
        {
          "data": {
            "text/plain": [
              "release_year    2011.0\n",
              "added_year      2019.0\n",
              "dtype: float64"
            ]
          },
          "execution_count": 40,
          "metadata": {},
          "output_type": "execute_result"
        }
      ],
      "source": [
        "df1.median()"
      ]
    },
    {
      "cell_type": "markdown",
      "id": "d449d8f3",
      "metadata": {
        "id": "d449d8f3"
      },
      "source": [
        "### How dispersed  data is in relation to the mean."
      ]
    },
    {
      "cell_type": "code",
      "execution_count": null,
      "id": "fbf9b4a9",
      "metadata": {
        "id": "fbf9b4a9",
        "outputId": "83ea8a69-70b9-4096-a78b-f4d18c0ad0c3"
      },
      "outputs": [
        {
          "data": {
            "text/plain": [
              "release_year    21.886435\n",
              "added_year       0.815284\n",
              "dtype: float64"
            ]
          },
          "execution_count": 41,
          "metadata": {},
          "output_type": "execute_result"
        }
      ],
      "source": [
        "df1.std()"
      ]
    },
    {
      "cell_type": "markdown",
      "id": "f2d77a64",
      "metadata": {
        "id": "f2d77a64"
      },
      "source": [
        "#### Statistical measurement of the spread between numbers."
      ]
    },
    {
      "cell_type": "code",
      "execution_count": null,
      "id": "e175ff3c",
      "metadata": {
        "id": "e175ff3c",
        "outputId": "588ad258-8a9a-435d-d048-3fac5bd26917"
      },
      "outputs": [
        {
          "data": {
            "text/plain": [
              "release_year    479.016027\n",
              "added_year        0.664687\n",
              "dtype: float64"
            ]
          },
          "execution_count": 42,
          "metadata": {},
          "output_type": "execute_result"
        }
      ],
      "source": [
        "df1.var()"
      ]
    },
    {
      "cell_type": "markdown",
      "id": "e20d3620",
      "metadata": {
        "id": "e20d3620"
      },
      "source": [
        "### Handling Outliers "
      ]
    },
    {
      "cell_type": "code",
      "execution_count": null,
      "id": "285fe875",
      "metadata": {
        "id": "285fe875",
        "outputId": "f20efa72-6f77-40c0-8470-daf13a31b3ce"
      },
      "outputs": [
        {
          "data": {
            "image/png": "[encoded data removed]",
            "text/plain": [
              "<Figure size 432x288 with 1 Axes>"
            ]
          },
          "metadata": {
            "needs_background": "light"
          },
          "output_type": "display_data"
        }
      ],
      "source": [
        "#plot the boxplot of release_year variable.\n",
        "sns.boxplot(df1.release_year)\n",
        "plt.show()"
      ]
    },
    {
      "cell_type": "code",
      "execution_count": null,
      "id": "46dec70b",
      "metadata": {
        "id": "46dec70b",
        "outputId": "d5acf1a6-73ad-4a2f-ec37-6ea5a14e4550"
      },
      "outputs": [
        {
          "data": {
            "image/png": "[encoded data removed]",
            "text/plain": [
              "<Figure size 432x288 with 1 Axes>"
            ]
          },
          "metadata": {
            "needs_background": "light"
          },
          "output_type": "display_data"
        }
      ],
      "source": [
        "sns.boxplot(df1.added_year)\n",
        "plt.show()"
      ]
    },
    {
      "cell_type": "code",
      "execution_count": null,
      "id": "b20f4308",
      "metadata": {
        "scrolled": true,
        "id": "b20f4308",
        "outputId": "137d3629-6472-48f6-817d-558b415ef0db"
      },
      "outputs": [
        {
          "data": {
            "image/png": "[encoded data removed]",
            "text/plain": [
              "<Figure size 432x288 with 1 Axes>"
            ]
          },
          "metadata": {
            "needs_background": "light"
          },
          "output_type": "display_data"
        }
      ],
      "source": [
        "#plot the histogram of release_year variable.\n",
        "df1.release_year.plot.hist()\n",
        "plt.show()"
      ]
    },
    {
      "cell_type": "markdown",
      "id": "5fefde44",
      "metadata": {
        "id": "5fefde44"
      },
      "source": [
        "## Univariate Analysis "
      ]
    },
    {
      "cell_type": "markdown",
      "id": "7a72f890",
      "metadata": {
        "id": "7a72f890"
      },
      "source": [
        "## To check the percentage of people attracted to MOVIE and TV SHOWS"
      ]
    },
    {
      "cell_type": "code",
      "execution_count": null,
      "id": "e8de62ee",
      "metadata": {
        "id": "e8de62ee",
        "outputId": "889d1932-2358-4265-a991-cffdc9b29ca0"
      },
      "outputs": [
        {
          "data": {
            "image/png": "[encoded data removed]",
            "text/plain": [
              "<Figure size 432x288 with 1 Axes>"
            ]
          },
          "metadata": {},
          "output_type": "display_data"
        }
      ],
      "source": [
        "x= df1['type'].value_counts()\n",
        "plt.pie(x, labels=x.index, autopct=\"%.0f%%\",radius=1);"
      ]
    },
    {
      "cell_type": "markdown",
      "id": "e09bc54f",
      "metadata": {
        "id": "e09bc54f"
      },
      "source": [
        "### From this we can see that people are more intrested in Movies than Tv shows"
      ]
    },
    {
      "cell_type": "markdown",
      "id": "677a69b1",
      "metadata": {
        "id": "677a69b1"
      },
      "source": [
        "## Analizing in which year more number of movies and tv shows are released"
      ]
    },
    {
      "cell_type": "code",
      "execution_count": null,
      "id": "4df2cfda",
      "metadata": {
        "id": "4df2cfda",
        "outputId": "9492ec4a-6cfd-47d8-8554-204331bf3142"
      },
      "outputs": [
        {
          "data": {
            "image/png": "[encoded data removed]",
            "text/plain": [
              "<Figure size 1440x720 with 1 Axes>"
            ]
          },
          "metadata": {
            "needs_background": "light"
          },
          "output_type": "display_data"
        }
      ],
      "source": [
        "df1.release_year.value_counts().plot(kind='bar',figsize=(20,10))\n",
        "plt.show()"
      ]
    },
    {
      "cell_type": "code",
      "execution_count": null,
      "id": "25ed7b37",
      "metadata": {
        "scrolled": false,
        "id": "25ed7b37",
        "outputId": "1620b9d1-8e66-4dcd-8f3d-3e7fb74f774f"
      },
      "outputs": [
        {
          "data": {
            "image/png": "[encoded data removed]",
            "text/plain": [
              "<Figure size 720x576 with 1 Axes>"
            ]
          },
          "metadata": {
            "needs_background": "light"
          },
          "output_type": "display_data"
        }
      ],
      "source": [
        "plt.figure(figsize=(10,8))\n",
        "sns.distplot(x=df1[\"release_year\"])\n",
        "plt.title(\"Release Years\", size=15)\n",
        "plt.show()"
      ]
    },
    {
      "cell_type": "markdown",
      "id": "a99a360f",
      "metadata": {
        "id": "a99a360f"
      },
      "source": [
        "### From this graphs we can understand that most of the content is released in the year 2021 and the least is in year 1968"
      ]
    },
    {
      "cell_type": "code",
      "execution_count": null,
      "id": "eb2293cb",
      "metadata": {
        "scrolled": false,
        "id": "eb2293cb",
        "outputId": "d43cfcef-5958-41c0-d7f9-8d67443da11d"
      },
      "outputs": [
        {
          "data": {
            "image/png": "[encoded data removed]",
            "text/plain": [
              "<Figure size 720x576 with 1 Axes>"
            ]
          },
          "metadata": {
            "needs_background": "light"
          },
          "output_type": "display_data"
        }
      ],
      "source": [
        "plt.figure(figsize=(10,8))\n",
        "# Drop 'No Data' row\n",
        "df2 = df1[\"director\"].value_counts().head(11)\n",
        "df2.tail(10).plot(kind='barh')\n",
        "plt.title(\"Directors with Most Movies\", size=15)\n",
        "plt.show()"
      ]
    },
    {
      "cell_type": "code",
      "execution_count": null,
      "id": "014b2fa7",
      "metadata": {
        "id": "014b2fa7",
        "outputId": "4d6bf397-955c-4390-acc0-f433d6bd9144"
      },
      "outputs": [
        {
          "data": {
            "image/png": "[encoded data removed]",
            "text/plain": [
              "<Figure size 432x288 with 1 Axes>"
            ]
          },
          "metadata": {
            "needs_background": "light"
          },
          "output_type": "display_data"
        }
      ],
      "source": [
        "#plot the scatter plot of release_year and added_year in inp1\n",
        "df1.plot.scatter(x=\"release_year\", y=\"added_year\")\n",
        "plt.show()"
      ]
    },
    {
      "cell_type": "code",
      "execution_count": null,
      "id": "048e9d11",
      "metadata": {
        "id": "048e9d11",
        "outputId": "9a0f8fa8-aa97-49d3-90f8-3fbc94a4d048"
      },
      "outputs": [
        {
          "data": {
            "text/plain": [
              "<AxesSubplot:>"
            ]
          },
          "execution_count": 23,
          "metadata": {},
          "output_type": "execute_result"
        },
        {
          "data": {
            "image/png": "[encoded data removed]",
            "text/plain": [
              "<Figure size 432x288 with 2 Axes>"
            ]
          },
          "metadata": {
            "needs_background": "light"
          },
          "output_type": "display_data"
        }
      ],
      "source": [
        "sns.heatmap(df1[[\"release_year\",\"added_year\"]].corr(),annot=True,cmap=\"Reds\")"
      ]
    },
    {
      "cell_type": "code",
      "execution_count": null,
      "id": "e4166684",
      "metadata": {
        "scrolled": false,
        "id": "e4166684",
        "outputId": "cf6e8225-42ee-42a0-9992-af0915e25e11"
      },
      "outputs": [
        {
          "data": {
            "image/png": "[encoded data removed]",
            "text/plain": [
              "<Figure size 360x360 with 6 Axes>"
            ]
          },
          "metadata": {
            "needs_background": "light"
          },
          "output_type": "display_data"
        }
      ],
      "source": [
        "#plot the pair plot of salary, balance and age in inp1 dataframe.\n",
        "sns.pairplot(data=df1,vars=[\"added_year\",\"release_year\"])\n",
        "plt.show()"
      ]
    },
    {
      "cell_type": "code",
      "execution_count": null,
      "id": "14d548cf",
      "metadata": {
        "id": "14d548cf",
        "outputId": "1264f080-cb2d-492c-a9b5-54a500b2c919"
      },
      "outputs": [
        {
          "data": {
            "text/plain": [
              "<AxesSubplot:xlabel='rating', ylabel='release_year'>"
            ]
          },
          "execution_count": 27,
          "metadata": {},
          "output_type": "execute_result"
        },
        {
          "data": {
            "image/png": "[encoded data removed]",
            "text/plain": [
              "<Figure size 432x288 with 1 Axes>"
            ]
          },
          "metadata": {
            "needs_background": "light"
          },
          "output_type": "display_data"
        }
      ],
      "source": [
        "#plot the box plot of directors and release year\n",
        "sns.boxplot(data=df1,x=\"rating\",y=\"release_year\")"
      ]
    },
    {
      "cell_type": "code",
      "execution_count": null,
      "id": "ca79ba42",
      "metadata": {
        "id": "ca79ba42",
        "outputId": "c91c3d37-63d4-4454-e81c-6dab7d4f3b98"
      },
      "outputs": [
        {
          "data": {
            "image/png": "[encoded data removed]",
            "text/plain": [
              "<Figure size 720x360 with 1 Axes>"
            ]
          },
          "metadata": {
            "needs_background": "light"
          },
          "output_type": "display_data"
        }
      ],
      "source": [
        "df1.groupby(\"rating\")[\"release_year\"].mean().plot(kind='bar',figsize=(10,5))\n",
        "plt.show()"
      ]
    },
    {
      "cell_type": "code",
      "execution_count": null,
      "id": "3b9a523f",
      "metadata": {
        "id": "3b9a523f",
        "outputId": "561cb9f6-6d2b-47dd-d4d5-8206e37df554"
      },
      "outputs": [
        {
          "data": {
            "image/png": "[encoded data removed]",
            "text/plain": [
              "<Figure size 1296x576 with 1 Axes>"
            ]
          },
          "metadata": {
            "needs_background": "light"
          },
          "output_type": "display_data"
        }
      ],
      "source": [
        "plt.figure(figsize = (18,8))\n",
        "sns.countplot(x = 'rating', hue = 'type', data = df1, palette = 'afmhot_r')\n",
        "plt.xlabel('Rating', fontsize = 15)\n",
        "plt.ylabel('Count', fontsize = 15)\n",
        "plt.title('Type and rating', size = '20', fontweight = 'bold')\n",
        "plt.show();"
      ]
    },
    {
      "cell_type": "code",
      "execution_count": null,
      "id": "150c3807",
      "metadata": {
        "id": "150c3807",
        "outputId": "a6740132-eca2-4cfd-b702-64585c45fc90"
      },
      "outputs": [
        {
          "data": {
            "text/plain": [
              "array(['Kids', 'Older Kids', 'Teens', 'Young Adults'], dtype=object)"
            ]
          },
          "execution_count": 43,
          "metadata": {},
          "output_type": "execute_result"
        }
      ],
      "source": [
        "# Creating new column for age rating\n",
        "rating_ages = {\n",
        "    'TV-PG': 'Older Kids',\n",
        "    'TV-MA': 'Adults',\n",
        "    'TV-Y7-FV': 'Older Kids',\n",
        "    'TV-Y7': 'Older Kids',\n",
        "    'TV-14': 'Young Adults',\n",
        "    'R': 'Adults',\n",
        "    'TV-Y': 'Kids',\n",
        "    'NR': 'Adults',\n",
        "    'PG-13': 'Teens',\n",
        "    'TV-G': 'Kids',\n",
        "    'PG': 'Older Kids',\n",
        "    'G': 'Kids',\n",
        "    'UR': 'Adults',\n",
        "    'NC-17': 'Adults'\n",
        "}\n",
        "\n",
        "df1['age_rating'] = df1['rating'].replace(rating_ages)\n",
        "df1['age_rating'].unique()"
      ]
    },
    {
      "cell_type": "code",
      "execution_count": null,
      "id": "cb6b8d62",
      "metadata": {
        "id": "cb6b8d62",
        "outputId": "27e50044-1287-4513-c7b7-0eb39d77e6d5"
      },
      "outputs": [
        {
          "data": {
            "image/png": "[encoded data removed]",
            "text/plain": [
              "<Figure size 720x360 with 1 Axes>"
            ]
          },
          "metadata": {
            "needs_background": "light"
          },
          "output_type": "display_data"
        }
      ],
      "source": [
        "# Countplot for Adult, Teen, Kids, Older Kids\n",
        "f, ax = plt.subplots(figsize = (10, 5))\n",
        "ax = sns.countplot('age_rating', data = df1, lw = 2, ec = 'black', palette = 'nipy_spectral',\n",
        "                  order = df1['age_rating'].value_counts().index)\n",
        "plt.title('Age Rating Counts', fontsize = 20, fontweight = 'bold',)\n",
        "plt.xlabel('Ratings', fontsize = 15)\n",
        "plt.ylabel('Counts', fontsize = 15)\n",
        "\n",
        "# Adding Annotation\n",
        "for p in ax.patches:\n",
        "  ax.annotate(format(p.get_height(), '.2f'), (p.get_x() + p.get_width() / 2., \n",
        "  p.get_height()), ha = 'center', va = 'center', xytext = (0, 6), \n",
        "  textcoords = 'offset points', fontsize = 10, fontweight = 'bold')"
      ]
    },
    {
      "cell_type": "code",
      "execution_count": null,
      "id": "39078a9e",
      "metadata": {
        "id": "39078a9e"
      },
      "outputs": [],
      "source": []
    }
  ],
  "metadata": {
    "kernelspec": {
      "display_name": "Python 3 (ipykernel)",
      "language": "python",
      "name": "python3"
    },
    "language_info": {
      "codemirror_mode": {
        "name": "ipython",
        "version": 3
      },
      "file_extension": ".py",
      "mimetype": "text/x-python",
      "name": "python",
      "nbconvert_exporter": "python",
      "pygments_lexer": "ipython3",
      "version": "3.9.12"
    },
    "colab": {
      "provenance": [],
      "include_colab_link": true
    }
  },
  "nbformat": 4,
  "nbformat_minor": 5
}